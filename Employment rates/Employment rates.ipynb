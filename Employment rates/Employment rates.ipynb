{
 "cells": [
  {
   "cell_type": "markdown",
   "metadata": {},
   "source": [
    "## Introduction to the data"
   ]
  },
  {
   "cell_type": "code",
   "execution_count": 1,
   "metadata": {},
   "outputs": [],
   "source": [
    "import pandas as pd\n",
    "\n",
    "all_ages = pd.read_csv(\"all-ages.csv\")\n",
    "recent_grads = pd.read_csv(\"recent-grads.csv\")"
   ]
  },
  {
   "cell_type": "code",
   "execution_count": 2,
   "metadata": {},
   "outputs": [
    {
     "data": {
      "text/plain": [
       "Major_code                                                  1100\n",
       "Major                                        GENERAL AGRICULTURE\n",
       "Major_category                   Agriculture & Natural Resources\n",
       "Total                                                     128148\n",
       "Employed                                                   90245\n",
       "Employed_full_time_year_round                              74078\n",
       "Unemployed                                                  2423\n",
       "Unemployment_rate                                      0.0261471\n",
       "Median                                                     50000\n",
       "P25th                                                      34000\n",
       "P75th                                                      80000\n",
       "Name: 0, dtype: object"
      ]
     },
     "execution_count": 2,
     "metadata": {},
     "output_type": "execute_result"
    }
   ],
   "source": [
    "all_ages.iloc[0]"
   ]
  },
  {
   "cell_type": "code",
   "execution_count": 3,
   "metadata": {},
   "outputs": [
    {
     "data": {
      "text/plain": [
       "Rank                                        1\n",
       "Major_code                               2419\n",
       "Major                   PETROLEUM ENGINEERING\n",
       "Total                                    2339\n",
       "Men                                      2057\n",
       "Women                                     282\n",
       "Major_category                    Engineering\n",
       "ShareWomen                           0.120564\n",
       "Sample_size                                36\n",
       "Employed                                 1976\n",
       "Full_time                                1849\n",
       "Part_time                                 270\n",
       "Full_time_year_round                     1207\n",
       "Unemployed                                 37\n",
       "Unemployment_rate                   0.0183805\n",
       "Median                                 110000\n",
       "P25th                                   95000\n",
       "P75th                                  125000\n",
       "College_jobs                             1534\n",
       "Non_college_jobs                          364\n",
       "Low_wage_jobs                             193\n",
       "Name: 0, dtype: object"
      ]
     },
     "execution_count": 3,
     "metadata": {},
     "output_type": "execute_result"
    }
   ],
   "source": [
    "recent_grads.iloc[0]"
   ]
  },
  {
   "cell_type": "markdown",
   "metadata": {},
   "source": [
    "## Summarizing major categories"
   ]
  },
  {
   "cell_type": "code",
   "execution_count": 4,
   "metadata": {},
   "outputs": [],
   "source": [
    "# Unique values in Major_category column.\n",
    "majors = all_ages[\"Major_category\"].unique()\n",
    "\n",
    "aa_cat_counts = dict()\n",
    "rg_cat_counts = dict()\n",
    "\n",
    "for each in majors:\n",
    "    rows_ages = all_ages.loc[all_ages[\"Major_category\"] == each]\n",
    "    rows_grads = recent_grads.loc[recent_grads[\"Major_category\"] == each]\n",
    "    aa_cat_counts[each] = rows_ages[\"Total\"].sum()\n",
    "    rg_cat_counts[each] = rows_grads[\"Total\"].sum()"
   ]
  },
  {
   "cell_type": "code",
   "execution_count": 5,
   "metadata": {},
   "outputs": [
    {
     "data": {
      "text/plain": [
       "{'Agriculture & Natural Resources': 632437,\n",
       " 'Arts': 1805865,\n",
       " 'Biology & Life Science': 1338186,\n",
       " 'Business': 9858741,\n",
       " 'Communications & Journalism': 1803822,\n",
       " 'Computers & Mathematics': 1781378,\n",
       " 'Education': 4700118,\n",
       " 'Engineering': 3576013,\n",
       " 'Health': 2950859,\n",
       " 'Humanities & Liberal Arts': 3738335,\n",
       " 'Industrial Arts & Consumer Services': 1033798,\n",
       " 'Interdisciplinary': 45199,\n",
       " 'Law & Public Policy': 902926,\n",
       " 'Physical Sciences': 1025318,\n",
       " 'Psychology & Social Work': 1987278,\n",
       " 'Social Science': 2654125}"
      ]
     },
     "execution_count": 5,
     "metadata": {},
     "output_type": "execute_result"
    }
   ],
   "source": [
    "aa_cat_counts"
   ]
  },
  {
   "cell_type": "code",
   "execution_count": 6,
   "metadata": {},
   "outputs": [
    {
     "data": {
      "text/plain": [
       "{'Agriculture & Natural Resources': 75620.0,\n",
       " 'Arts': 357130.0,\n",
       " 'Biology & Life Science': 453862.0,\n",
       " 'Business': 1302376.0,\n",
       " 'Communications & Journalism': 392601.0,\n",
       " 'Computers & Mathematics': 299008.0,\n",
       " 'Education': 559129.0,\n",
       " 'Engineering': 537583.0,\n",
       " 'Health': 463230.0,\n",
       " 'Humanities & Liberal Arts': 713468.0,\n",
       " 'Industrial Arts & Consumer Services': 229792.0,\n",
       " 'Interdisciplinary': 12296.0,\n",
       " 'Law & Public Policy': 179107.0,\n",
       " 'Physical Sciences': 185479.0,\n",
       " 'Psychology & Social Work': 481007.0,\n",
       " 'Social Science': 529966.0}"
      ]
     },
     "execution_count": 6,
     "metadata": {},
     "output_type": "execute_result"
    }
   ],
   "source": [
    "rg_cat_counts"
   ]
  },
  {
   "cell_type": "markdown",
   "metadata": {},
   "source": [
    "## Low-wage job rates"
   ]
  },
  {
   "cell_type": "code",
   "execution_count": 7,
   "metadata": {},
   "outputs": [],
   "source": [
    "low_wage_proportion = ( recent_grads[\"Low_wage_jobs\"].sum() / recent_grads[\"Total\"].sum() ) * 100"
   ]
  },
  {
   "cell_type": "code",
   "execution_count": 8,
   "metadata": {},
   "outputs": [
    {
     "data": {
      "text/plain": [
       "9.858891195563151"
      ]
     },
     "execution_count": 8,
     "metadata": {},
     "output_type": "execute_result"
    }
   ],
   "source": [
    "low_wage_proportion"
   ]
  },
  {
   "cell_type": "markdown",
   "metadata": {},
   "source": [
    "## Comparing data sets"
   ]
  },
  {
   "cell_type": "code",
   "execution_count": 9,
   "metadata": {},
   "outputs": [],
   "source": [
    "# All majors, common to both DataFrames\n",
    "majors = recent_grads['Major'].unique()\n",
    "\n",
    "rg_lower_count = 0\n",
    "\n",
    "for each in majors:\n",
    "    row_ages = all_ages.loc[all_ages[\"Major\"] == each]\n",
    "    row_grads = recent_grads.loc[recent_grads[\"Major\"] == each]\n",
    "    if row_ages[\"Unemployment_rate\"].sum() > row_grads[\"Unemployment_rate\"].sum():\n",
    "        rg_lower_count += 1"
   ]
  },
  {
   "cell_type": "code",
   "execution_count": 10,
   "metadata": {},
   "outputs": [
    {
     "data": {
      "text/plain": [
       "44"
      ]
     },
     "execution_count": 10,
     "metadata": {},
     "output_type": "execute_result"
    }
   ],
   "source": [
    "# It appears that less recent graduates who studied 44 of the 173 majors ended up\n",
    "# having lower unemployment rates than the general population.\n",
    "rg_lower_count"
   ]
  }
 ],
 "metadata": {
  "kernelspec": {
   "display_name": "Python 3",
   "language": "python",
   "name": "python3"
  },
  "language_info": {
   "codemirror_mode": {
    "name": "ipython",
    "version": 3
   },
   "file_extension": ".py",
   "mimetype": "text/x-python",
   "name": "python",
   "nbconvert_exporter": "python",
   "pygments_lexer": "ipython3",
   "version": "3.6.3"
  }
 },
 "nbformat": 4,
 "nbformat_minor": 2
}
