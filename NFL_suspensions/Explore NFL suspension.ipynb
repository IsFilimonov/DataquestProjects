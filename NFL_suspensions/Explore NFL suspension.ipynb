{
 "cells": [
  {
   "cell_type": "markdown",
   "metadata": {},
   "source": [
    "## Introduction to the data"
   ]
  },
  {
   "cell_type": "code",
   "execution_count": 1,
   "metadata": {
    "collapsed": true
   },
   "outputs": [],
   "source": [
    "# Read the data set into a list of lists\n",
    "import csv\n",
    "nfl_suspensions = list(csv.reader(open(\"nfl_suspensions_data.csv\", \"r\")))"
   ]
  },
  {
   "cell_type": "code",
   "execution_count": 2,
   "metadata": {
    "collapsed": true
   },
   "outputs": [],
   "source": [
    "# Remove header row\n",
    "nfl_suspensions = nfl_suspensions[1:]"
   ]
  },
  {
   "cell_type": "code",
   "execution_count": 3,
   "metadata": {
    "collapsed": true
   },
   "outputs": [],
   "source": [
    "# Count the number of times each value occurs in the \"year\" column.\n",
    "years = {}\n",
    "for each in nfl_suspensions:\n",
    "    row_year = each[5]\n",
    "    if row_year in years:\n",
    "        years[row_year] += 1\n",
    "    else:\n",
    "        years[row_year] = 1"
   ]
  },
  {
   "cell_type": "code",
   "execution_count": 4,
   "metadata": {},
   "outputs": [
    {
     "name": "stdout",
     "output_type": "stream",
     "text": [
      "{'2014': 29, '1946': 1, '1947': 1, '2010': 21, '2008': 10, '2007': 17, '1983': 1, '2009': 10, '2005': 8, '2000': 1, '2012': 45, '2001': 3, '2006': 11, '1989': 17, '   ': 1, '1963': 1, '2013': 40, '1990': 3, '2011': 13, '2004': 6, '2002': 7, '2003': 9, '1997': 3, '1999': 5, '1993': 1, '1995': 1, '1998': 2, '1994': 1, '1986': 1}\n"
     ]
    }
   ],
   "source": [
    "print(years)"
   ]
  },
  {
   "cell_type": "markdown",
   "metadata": {},
   "source": [
    "## Unique values"
   ]
  },
  {
   "cell_type": "code",
   "execution_count": 5,
   "metadata": {
    "collapsed": true
   },
   "outputs": [],
   "source": [
    "unique_teams = set([each[1] for each in nfl_suspensions])\n",
    "unique_games = set([each[2] for each in nfl_suspensions])"
   ]
  },
  {
   "cell_type": "code",
   "execution_count": 6,
   "metadata": {},
   "outputs": [
    {
     "name": "stdout",
     "output_type": "stream",
     "text": [
      "{'DET', 'ATL', 'NYJ', 'ARI', 'LA', 'PHI', 'SD', 'CIN', 'PIT', 'SF', 'GB', 'MIN', 'DAL', 'TB', 'NYG', 'TEN', 'OAK', 'BUF', 'SEA', 'KC', 'DEN', 'JAX', 'NO', 'FREE', 'HOU', 'IND', 'BAL', 'CLE', 'MIA', 'STL', 'CAR', 'WAS', 'NE', 'CHI'}\n",
      "{'16', '3', '8', '36', '5', '20', '1', '6', 'Indef.', '14', '4', '32', '10', '2'}\n"
     ]
    }
   ],
   "source": [
    "print(unique_teams)\n",
    "print(unique_games)"
   ]
  },
  {
   "cell_type": "markdown",
   "metadata": {},
   "source": [
    "## Tweaking the suspension class"
   ]
  },
  {
   "cell_type": "code",
   "execution_count": 7,
   "metadata": {
    "collapsed": true
   },
   "outputs": [],
   "source": [
    "class Suspension:\n",
    "    def __init__(self, p_row):\n",
    "        self.name = p_row[0]\n",
    "        self.team = p_row[1]\n",
    "        self.games = p_row[2]\n",
    "        try:\n",
    "            self.year = int(p_row[5])\n",
    "        except ValueError:\n",
    "            self.year = 0\n",
    "\n",
    "    def get_year(self):\n",
    "        return self.year"
   ]
  },
  {
   "cell_type": "code",
   "execution_count": 8,
   "metadata": {
    "collapsed": true
   },
   "outputs": [],
   "source": [
    "third_suspension = Suspension(nfl_suspensions[2])\n",
    "missing_year = Suspension(nfl_suspensions[22])\n",
    "twenty_third_year = missing_year.get_year()"
   ]
  },
  {
   "cell_type": "code",
   "execution_count": 9,
   "metadata": {},
   "outputs": [
    {
     "name": "stdout",
     "output_type": "stream",
     "text": [
      "0\n"
     ]
    }
   ],
   "source": [
    "print(twenty_third_year)"
   ]
  }
 ],
 "metadata": {
  "kernelspec": {
   "display_name": "Python 3",
   "language": "python",
   "name": "python3"
  },
  "language_info": {
   "codemirror_mode": {
    "name": "ipython",
    "version": 3
   },
   "file_extension": ".py",
   "mimetype": "text/x-python",
   "name": "python",
   "nbconvert_exporter": "python",
   "pygments_lexer": "ipython3",
   "version": "3.6.3"
  }
 },
 "nbformat": 4,
 "nbformat_minor": 2
}
